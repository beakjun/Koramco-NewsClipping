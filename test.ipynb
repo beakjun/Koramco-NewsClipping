{
 "cells": [
  {
   "cell_type": "markdown",
   "id": "5f4a1812-28f7-4118-bdd6-d982d9efaeb8",
   "metadata": {},
   "source": [
    "# TransFormers"
   ]
  },
  {
   "cell_type": "code",
   "execution_count": 4,
   "id": "396650c7-8a9e-4cfe-8e70-ebcd0438475b",
   "metadata": {},
   "outputs": [],
   "source": [
    "from Koramco.transformers import TransFormers"
   ]
  },
  {
   "cell_type": "code",
   "execution_count": 5,
   "id": "a3147342-8134-46c4-b786-7421b3bd2d2b",
   "metadata": {},
   "outputs": [
    {
     "name": "stderr",
     "output_type": "stream",
     "text": [
      "Some weights of RobertaForSequenceClassification were not initialized from the model checkpoint at klue/roberta-base and are newly initialized: ['classifier.dense.bias', 'classifier.dense.weight', 'classifier.out_proj.bias', 'classifier.out_proj.weight']\n",
      "You should probably TRAIN this model on a down-stream task to be able to use it for predictions and inference.\n",
      "The new embeddings will be initialized from a multivariate normal distribution that has old embeddings' mean and covariance. As described in this article: https://nlp.stanford.edu/~johnhew/vocab-expansion.html. To disable this, use `mean_resizing=False`\n"
     ]
    }
   ],
   "source": [
    "t, m = TransFormers(\"klue/roberta-base\").from_pretrained()"
   ]
  },
  {
   "cell_type": "markdown",
   "id": "cb93ff7d-83e2-4fee-b48e-3bb14e595527",
   "metadata": {},
   "source": [
    "# RSS Fecher"
   ]
  },
  {
   "cell_type": "code",
   "execution_count": 3,
   "id": "d6e2a6c2-5d92-4d02-af29-6fbed2286cbe",
   "metadata": {},
   "outputs": [],
   "source": [
    "from Koramco.rss_fetcher import Rss_Fecher"
   ]
  },
  {
   "cell_type": "code",
   "execution_count": 4,
   "id": "6e0a24ba-7b63-4f3c-95b1-2ff4e1b4925c",
   "metadata": {},
   "outputs": [],
   "source": [
    "rss_fetcher = Rss_Fecher()\n",
    "#df = rss_fetcher.crawl_all()"
   ]
  },
  {
   "cell_type": "code",
   "execution_count": null,
   "id": "86318d33-69ab-4773-980f-cbeb32c9dd46",
   "metadata": {},
   "outputs": [],
   "source": [
    "df.groupby(\"source\").count()"
   ]
  },
  {
   "cell_type": "code",
   "execution_count": 5,
   "id": "c1703cdc-3239-4d47-a23f-e194780eba00",
   "metadata": {},
   "outputs": [],
   "source": [
    "df = rss_fetcher.crawl_source(\"연합인포맥스\")"
   ]
  },
  {
   "cell_type": "code",
   "execution_count": 9,
   "id": "609445ef-9671-46d7-b08a-d742bc1411af",
   "metadata": {},
   "outputs": [],
   "source": [
    "df1 =rss_fetcher.crawl_source(\"보험매일\")"
   ]
  },
  {
   "cell_type": "markdown",
   "id": "3748437e-c1fb-4c21-a8d5-67ac66905518",
   "metadata": {},
   "source": [
    "# 임베딩"
   ]
  },
  {
   "cell_type": "code",
   "execution_count": 1,
   "id": "9f492e0d-df2f-4af5-84aa-6dfd1fa03cf3",
   "metadata": {},
   "outputs": [
    {
     "data": {
      "application/vnd.jupyter.widget-view+json": {
       "model_id": "52234986b3c8405bae91d298ae5794e1",
       "version_major": 2,
       "version_minor": 0
      },
      "text/plain": [
       "tokenizer_config.json:   0%|          | 0.00/375 [00:00<?, ?B/s]"
      ]
     },
     "metadata": {},
     "output_type": "display_data"
    },
    {
     "data": {
      "application/vnd.jupyter.widget-view+json": {
       "model_id": "a4c2f1aeed1c4289b3dc746234e293f3",
       "version_major": 2,
       "version_minor": 0
      },
      "text/plain": [
       "vocab.txt: 0.00B [00:00, ?B/s]"
      ]
     },
     "metadata": {},
     "output_type": "display_data"
    },
    {
     "data": {
      "application/vnd.jupyter.widget-view+json": {
       "model_id": "a8c87a1fc97a4ee3ab6bbec917bca100",
       "version_major": 2,
       "version_minor": 0
      },
      "text/plain": [
       "tokenizer.json: 0.00B [00:00, ?B/s]"
      ]
     },
     "metadata": {},
     "output_type": "display_data"
    },
    {
     "data": {
      "application/vnd.jupyter.widget-view+json": {
       "model_id": "ac32fb8671bc4644bf11ad041fce2b34",
       "version_major": 2,
       "version_minor": 0
      },
      "text/plain": [
       "special_tokens_map.json:   0%|          | 0.00/173 [00:00<?, ?B/s]"
      ]
     },
     "metadata": {},
     "output_type": "display_data"
    },
    {
     "name": "stderr",
     "output_type": "stream",
     "text": [
      "Some weights of RobertaModel were not initialized from the model checkpoint at klue/roberta-base and are newly initialized: ['pooler.dense.bias', 'pooler.dense.weight']\n",
      "You should probably TRAIN this model on a down-stream task to be able to use it for predictions and inference.\n",
      "The new embeddings will be initialized from a multivariate normal distribution that has old embeddings' mean and covariance. As described in this article: https://nlp.stanford.edu/~johnhew/vocab-expansion.html. To disable this, use `mean_resizing=False`\n"
     ]
    }
   ],
   "source": [
    "from Koramco.embedding import Embedding\n",
    "import torch\n",
    "\n",
    "# 코람코 뉴스 기사 제목 중 일부를 corpus로 활용\n",
    "corpus = ['공사비 리스크에 컨소시엄 꾸리는 건설사들… 정비사업 조합은 ‘불만', \"GS건설, 인공지능 시대 '데이터센터 개발' 자체사업 도전장\"]\n",
    "model_id = \"klue/roberta-base\"\n",
    "device = torch.device(\"cuda\" if torch.cuda.is_available() else \"cpu\")\n",
    "cache_dir = './cache'\n",
    "embedding_obj = Embedding(corpus, model_id, device, cache_dir=cache_dir)"
   ]
  },
  {
   "cell_type": "code",
   "execution_count": 2,
   "id": "f5c82fdc-f4e3-49b0-bafd-be386c73616a",
   "metadata": {},
   "outputs": [
    {
     "data": {
      "text/plain": [
       "tensor([[ 0.1619, -0.0197,  0.0695,  ..., -0.0315,  0.0289,  0.1385],\n",
       "        [ 0.2112, -0.4154,  0.0449,  ..., -0.2887,  0.0290,  0.0533]],\n",
       "       device='cuda:0')"
      ]
     },
     "execution_count": 2,
     "metadata": {},
     "output_type": "execute_result"
    }
   ],
   "source": [
    "embedding_obj.sentance_embedding"
   ]
  },
  {
   "cell_type": "markdown",
   "id": "31694c5f-2219-4d29-8298-9749f13d384b",
   "metadata": {},
   "source": [
    "# 트랜스포머"
   ]
  },
  {
   "cell_type": "code",
   "execution_count": 1,
   "id": "e637b1f7-7625-4491-8200-78d195154fb6",
   "metadata": {},
   "outputs": [
    {
     "name": "stderr",
     "output_type": "stream",
     "text": [
      "Some weights of RobertaForSequenceClassification were not initialized from the model checkpoint at klue/roberta-base and are newly initialized: ['classifier.dense.bias', 'classifier.dense.weight', 'classifier.out_proj.bias', 'classifier.out_proj.weight']\n",
      "You should probably TRAIN this model on a down-stream task to be able to use it for predictions and inference.\n",
      "The new embeddings will be initialized from a multivariate normal distribution that has old embeddings' mean and covariance. As described in this article: https://nlp.stanford.edu/~johnhew/vocab-expansion.html. To disable this, use `mean_resizing=False`\n"
     ]
    }
   ],
   "source": [
    "from Koramco.transformers import TransFormers\n",
    "import torch\n",
    "\n",
    "model_id = \"klue/roberta-base\"\n",
    "device = torch.device(\"cuda\" if torch.cuda.is_available() else \"cpu\")\n",
    "cache_dir = './cache_model'\n",
    "num_labels = 2\n",
    "\n",
    "tf = TransFormers(model_id, device, cache_dir = cache_dir, num_labels = num_labels)\n",
    "tokenizer, model = tf.from_pretrained()"
   ]
  },
  {
   "cell_type": "code",
   "execution_count": 2,
   "id": "d383f3aa-cbcd-43bc-add9-69510a54c44e",
   "metadata": {},
   "outputs": [
    {
     "name": "stderr",
     "output_type": "stream",
     "text": [
      "Some weights of RobertaModel were not initialized from the model checkpoint at klue/roberta-base and are newly initialized: ['pooler.dense.bias', 'pooler.dense.weight']\n",
      "You should probably TRAIN this model on a down-stream task to be able to use it for predictions and inference.\n"
     ]
    }
   ],
   "source": [
    "from Koramco.transformers import TransFormers\n",
    "import torch\n",
    "\n",
    "model_id = \"klue/roberta-base\"\n",
    "device = torch.device(\"cuda\" if torch.cuda.is_available() else \"cpu\")\n",
    "cache_dir = './cache_model2'\n",
    "# num_labels = 2\n",
    "\n",
    "tf = TransFormers(model_id, device, cache_dir = cache_dir)\n",
    "e_tokenizer, e_model = tf.from_pretrained_atuo_model()"
   ]
  },
  {
   "cell_type": "markdown",
   "id": "1ed01048-4726-4cfe-b494-93e4e8f8784b",
   "metadata": {},
   "source": [
    "# 전처리"
   ]
  },
  {
   "cell_type": "code",
   "execution_count": 3,
   "id": "fd74b2ce-ab7e-4b47-81d9-3b6c3236c085",
   "metadata": {},
   "outputs": [],
   "source": [
    "from Koramco.newspreprocessor import NewsPreprocessor\n",
    "import torch\n",
    "import pandas as pd\n",
    "rss_train_dir = '/workspace/BJ/train_rss/RSS데이터검토(취합)_250806.xlsx'\n",
    "rss_df = pd.read_excel(rss_train_dir, sheet_name='취합본')"
   ]
  },
  {
   "cell_type": "code",
   "execution_count": 4,
   "id": "cbcbd179-0717-4a99-8e54-ea4eb0d7d483",
   "metadata": {},
   "outputs": [],
   "source": [
    "model_id = \"klue/roberta-base\"\n",
    "device = torch.device(\"cuda\" if torch.cuda.is_available() else \"cpu\")\n",
    "cache_dir = './cache_model2'\n",
    "news_prep = NewsPreprocessor(model_id, device, cache_dir = cache_dir)"
   ]
  },
  {
   "cell_type": "markdown",
   "id": "87080188-ca15-453a-aba4-bc05ab86e5a9",
   "metadata": {},
   "source": [
    "## Filtering"
   ]
  },
  {
   "cell_type": "code",
   "execution_count": 5,
   "id": "3efec875-1c30-49db-933a-b748b9ae0de7",
   "metadata": {},
   "outputs": [
    {
     "data": {
      "text/html": [
       "<div>\n",
       "<style scoped>\n",
       "    .dataframe tbody tr th:only-of-type {\n",
       "        vertical-align: middle;\n",
       "    }\n",
       "\n",
       "    .dataframe tbody tr th {\n",
       "        vertical-align: top;\n",
       "    }\n",
       "\n",
       "    .dataframe thead th {\n",
       "        text-align: right;\n",
       "    }\n",
       "</style>\n",
       "<table border=\"1\" class=\"dataframe\">\n",
       "  <thead>\n",
       "    <tr style=\"text-align: right;\">\n",
       "      <th></th>\n",
       "      <th>date</th>\n",
       "      <th>source</th>\n",
       "      <th>title</th>\n",
       "      <th>group</th>\n",
       "      <th>label</th>\n",
       "      <th>category</th>\n",
       "      <th>roberta_proba</th>\n",
       "    </tr>\n",
       "  </thead>\n",
       "  <tbody>\n",
       "    <tr>\n",
       "      <th>70</th>\n",
       "      <td>2025-07-18</td>\n",
       "      <td>EBN산업경제</td>\n",
       "      <td>[종목분석] HMM, 시황 악화 우려에도 주주환원 기대감 여전</td>\n",
       "      <td>NaN</td>\n",
       "      <td>0</td>\n",
       "      <td>NaN</td>\n",
       "      <td>0.560914</td>\n",
       "    </tr>\n",
       "    <tr>\n",
       "      <th>72</th>\n",
       "      <td>2025-07-18</td>\n",
       "      <td>연합인포맥스</td>\n",
       "      <td>[표] 은행간 단기금리 기준-코리보(18일)</td>\n",
       "      <td>NaN</td>\n",
       "      <td>0</td>\n",
       "      <td>NaN</td>\n",
       "      <td>0.578841</td>\n",
       "    </tr>\n",
       "  </tbody>\n",
       "</table>\n",
       "</div>"
      ],
      "text/plain": [
       "         date   source                               title  group  label  \\\n",
       "70 2025-07-18  EBN산업경제  [종목분석] HMM, 시황 악화 우려에도 주주환원 기대감 여전    NaN      0   \n",
       "72 2025-07-18   연합인포맥스            [표] 은행간 단기금리 기준-코리보(18일)    NaN      0   \n",
       "\n",
       "   category  roberta_proba  \n",
       "70      NaN       0.560914  \n",
       "72      NaN       0.578841  "
      ]
     },
     "execution_count": 5,
     "metadata": {},
     "output_type": "execute_result"
    }
   ],
   "source": [
    "rss_df[rss_df['title'].str.contains(news_prep.pattern)]"
   ]
  },
  {
   "cell_type": "markdown",
   "id": "7800e8cd-19d0-416a-ad01-e0522ae842c8",
   "metadata": {},
   "source": [
    "## 특수문자 제거"
   ]
  },
  {
   "cell_type": "code",
   "execution_count": 6,
   "id": "c08266dc-1e3b-4418-8c79-8db9a2ff7ba6",
   "metadata": {
    "scrolled": true
   },
   "outputs": [
    {
     "data": {
      "text/html": [
       "<div>\n",
       "<style scoped>\n",
       "    .dataframe tbody tr th:only-of-type {\n",
       "        vertical-align: middle;\n",
       "    }\n",
       "\n",
       "    .dataframe tbody tr th {\n",
       "        vertical-align: top;\n",
       "    }\n",
       "\n",
       "    .dataframe thead th {\n",
       "        text-align: right;\n",
       "    }\n",
       "</style>\n",
       "<table border=\"1\" class=\"dataframe\">\n",
       "  <thead>\n",
       "    <tr style=\"text-align: right;\">\n",
       "      <th></th>\n",
       "      <th>date</th>\n",
       "      <th>source</th>\n",
       "      <th>title</th>\n",
       "      <th>group</th>\n",
       "      <th>label</th>\n",
       "      <th>category</th>\n",
       "      <th>roberta_proba</th>\n",
       "      <th>clean_symbol_title</th>\n",
       "    </tr>\n",
       "  </thead>\n",
       "  <tbody>\n",
       "    <tr>\n",
       "      <th>0</th>\n",
       "      <td>2025-07-18</td>\n",
       "      <td>머니투데이</td>\n",
       "      <td>대우건설, 개포우성7차 '초저금리·무이자 분담금' 제안...\"조합 부담 최소화\"</td>\n",
       "      <td>0.0</td>\n",
       "      <td>0</td>\n",
       "      <td>NaN</td>\n",
       "      <td>0.982516</td>\n",
       "      <td>대우건설, 개포우성7차 '초저금리·무이자 분담금' 제안...\"조합 부담 최소화\"</td>\n",
       "    </tr>\n",
       "    <tr>\n",
       "      <th>1</th>\n",
       "      <td>2025-07-18</td>\n",
       "      <td>아주경제</td>\n",
       "      <td>대우건설, '개포우성7차' 조합에 분담금 최소화 제안</td>\n",
       "      <td>0.0</td>\n",
       "      <td>0</td>\n",
       "      <td>NaN</td>\n",
       "      <td>0.976989</td>\n",
       "      <td>대우건설, '개포우성7차' 조합에 분담금 최소화 제안</td>\n",
       "    </tr>\n",
       "    <tr>\n",
       "      <th>2</th>\n",
       "      <td>2025-07-18</td>\n",
       "      <td>이데일리</td>\n",
       "      <td>대우건설, 개포우성7차에 '분담금은 입주시', 이자는 '0'</td>\n",
       "      <td>0.0</td>\n",
       "      <td>0</td>\n",
       "      <td>NaN</td>\n",
       "      <td>0.919403</td>\n",
       "      <td>대우건설, 개포우성7차에 '분담금은 입주시', 이자는 '0'</td>\n",
       "    </tr>\n",
       "    <tr>\n",
       "      <th>3</th>\n",
       "      <td>2025-07-18</td>\n",
       "      <td>1코노미뉴스</td>\n",
       "      <td>대우건설, 개포우성7차에 '무이자 분담금·저금리' 제안</td>\n",
       "      <td>0.0</td>\n",
       "      <td>0</td>\n",
       "      <td>NaN</td>\n",
       "      <td>0.907838</td>\n",
       "      <td>대우건설, 개포우성7차에 '무이자 분담금·저금리' 제안</td>\n",
       "    </tr>\n",
       "    <tr>\n",
       "      <th>4</th>\n",
       "      <td>2025-07-18</td>\n",
       "      <td>파이낸셜뉴스</td>\n",
       "      <td>대우건설, 개포우성7차 분담금 최소화 조건 제시...‘이자 제로’</td>\n",
       "      <td>0.0</td>\n",
       "      <td>0</td>\n",
       "      <td>NaN</td>\n",
       "      <td>0.858175</td>\n",
       "      <td>대우건설, 개포우성7차 분담금 최소화 조건 제시...‘이자 제로’</td>\n",
       "    </tr>\n",
       "    <tr>\n",
       "      <th>...</th>\n",
       "      <td>...</td>\n",
       "      <td>...</td>\n",
       "      <td>...</td>\n",
       "      <td>...</td>\n",
       "      <td>...</td>\n",
       "      <td>...</td>\n",
       "      <td>...</td>\n",
       "      <td>...</td>\n",
       "    </tr>\n",
       "    <tr>\n",
       "      <th>927</th>\n",
       "      <td>2025-08-05</td>\n",
       "      <td>매일경제</td>\n",
       "      <td>29억 아파트 맞나? 친구 초대하기 겁난다…벽면 크랙 이어 악취까지</td>\n",
       "      <td>NaN</td>\n",
       "      <td>0</td>\n",
       "      <td>NaN</td>\n",
       "      <td>0.576389</td>\n",
       "      <td>29억 아파트 맞나? 친구 초대하기 겁난다...벽면 크랙 이어 악취까지</td>\n",
       "    </tr>\n",
       "    <tr>\n",
       "      <th>928</th>\n",
       "      <td>2025-08-05</td>\n",
       "      <td>파이낸셜뉴스</td>\n",
       "      <td>한국공항공사, 전국 14개 공항 건설공사 현장 점검</td>\n",
       "      <td>NaN</td>\n",
       "      <td>0</td>\n",
       "      <td>NaN</td>\n",
       "      <td>0.567432</td>\n",
       "      <td>한국공항공사, 전국 14개 공항 건설공사 현장 점검</td>\n",
       "    </tr>\n",
       "    <tr>\n",
       "      <th>929</th>\n",
       "      <td>2025-08-05</td>\n",
       "      <td>연합인포맥스</td>\n",
       "      <td>누빈자산운용 \"연준, 연내 2회·내년 2회 금리 인하\"</td>\n",
       "      <td>NaN</td>\n",
       "      <td>0</td>\n",
       "      <td>NaN</td>\n",
       "      <td>0.528911</td>\n",
       "      <td>누빈자산운용 \"연준, 연내 2회·내년 2회 금리 인하\"</td>\n",
       "    </tr>\n",
       "    <tr>\n",
       "      <th>930</th>\n",
       "      <td>2025-08-05</td>\n",
       "      <td>아시아경제</td>\n",
       "      <td>공주시, 드론특별자유구역 선정</td>\n",
       "      <td>NaN</td>\n",
       "      <td>0</td>\n",
       "      <td>NaN</td>\n",
       "      <td>0.516777</td>\n",
       "      <td>공주시, 드론특별자유구역 선정</td>\n",
       "    </tr>\n",
       "    <tr>\n",
       "      <th>931</th>\n",
       "      <td>2025-08-05</td>\n",
       "      <td>이데일리</td>\n",
       "      <td>대한전선, 싱가포르서 1100억 추가 수주…초고압 턴키 프로젝트</td>\n",
       "      <td>NaN</td>\n",
       "      <td>0</td>\n",
       "      <td>NaN</td>\n",
       "      <td>0.502080</td>\n",
       "      <td>대한전선, 싱가포르서 1100억 추가 수주...초고압 턴키 프로젝트</td>\n",
       "    </tr>\n",
       "  </tbody>\n",
       "</table>\n",
       "<p>932 rows × 8 columns</p>\n",
       "</div>"
      ],
      "text/plain": [
       "          date  source                                         title  group  \\\n",
       "0   2025-07-18   머니투데이  대우건설, 개포우성7차 '초저금리·무이자 분담금' 제안...\"조합 부담 최소화\"    0.0   \n",
       "1   2025-07-18    아주경제                 대우건설, '개포우성7차' 조합에 분담금 최소화 제안    0.0   \n",
       "2   2025-07-18    이데일리             대우건설, 개포우성7차에 '분담금은 입주시', 이자는 '0'    0.0   \n",
       "3   2025-07-18  1코노미뉴스                대우건설, 개포우성7차에 '무이자 분담금·저금리' 제안    0.0   \n",
       "4   2025-07-18  파이낸셜뉴스          대우건설, 개포우성7차 분담금 최소화 조건 제시...‘이자 제로’    0.0   \n",
       "..         ...     ...                                           ...    ...   \n",
       "927 2025-08-05    매일경제         29억 아파트 맞나? 친구 초대하기 겁난다…벽면 크랙 이어 악취까지    NaN   \n",
       "928 2025-08-05  파이낸셜뉴스                  한국공항공사, 전국 14개 공항 건설공사 현장 점검    NaN   \n",
       "929 2025-08-05  연합인포맥스                누빈자산운용 \"연준, 연내 2회·내년 2회 금리 인하\"    NaN   \n",
       "930 2025-08-05   아시아경제                              공주시, 드론특별자유구역 선정    NaN   \n",
       "931 2025-08-05    이데일리           대한전선, 싱가포르서 1100억 추가 수주…초고압 턴키 프로젝트    NaN   \n",
       "\n",
       "     label category  roberta_proba  \\\n",
       "0        0      NaN       0.982516   \n",
       "1        0      NaN       0.976989   \n",
       "2        0      NaN       0.919403   \n",
       "3        0      NaN       0.907838   \n",
       "4        0      NaN       0.858175   \n",
       "..     ...      ...            ...   \n",
       "927      0      NaN       0.576389   \n",
       "928      0      NaN       0.567432   \n",
       "929      0      NaN       0.528911   \n",
       "930      0      NaN       0.516777   \n",
       "931      0      NaN       0.502080   \n",
       "\n",
       "                               clean_symbol_title  \n",
       "0    대우건설, 개포우성7차 '초저금리·무이자 분담금' 제안...\"조합 부담 최소화\"  \n",
       "1                   대우건설, '개포우성7차' 조합에 분담금 최소화 제안  \n",
       "2               대우건설, 개포우성7차에 '분담금은 입주시', 이자는 '0'  \n",
       "3                  대우건설, 개포우성7차에 '무이자 분담금·저금리' 제안  \n",
       "4            대우건설, 개포우성7차 분담금 최소화 조건 제시...‘이자 제로’  \n",
       "..                                            ...  \n",
       "927       29억 아파트 맞나? 친구 초대하기 겁난다...벽면 크랙 이어 악취까지  \n",
       "928                  한국공항공사, 전국 14개 공항 건설공사 현장 점검  \n",
       "929                누빈자산운용 \"연준, 연내 2회·내년 2회 금리 인하\"  \n",
       "930                              공주시, 드론특별자유구역 선정  \n",
       "931         대한전선, 싱가포르서 1100억 추가 수주...초고압 턴키 프로젝트  \n",
       "\n",
       "[932 rows x 8 columns]"
      ]
     },
     "execution_count": 6,
     "metadata": {},
     "output_type": "execute_result"
    }
   ],
   "source": [
    "news_prep.replace_symbols(rss_df,'title')"
   ]
  },
  {
   "cell_type": "markdown",
   "id": "fc70ba83-189e-4864-a5e8-39500c598f5d",
   "metadata": {},
   "source": [
    "## 유사도기반 브라켓_텍스트 제거"
   ]
  },
  {
   "cell_type": "code",
   "execution_count": 7,
   "id": "f0b9bbbc-0b9d-4dce-90bc-5055a772adc5",
   "metadata": {
    "scrolled": true
   },
   "outputs": [
    {
     "name": "stderr",
     "output_type": "stream",
     "text": [
      "Some weights of RobertaModel were not initialized from the model checkpoint at klue/roberta-base and are newly initialized: ['pooler.dense.bias', 'pooler.dense.weight']\n",
      "You should probably TRAIN this model on a down-stream task to be able to use it for predictions and inference.\n",
      "Some weights of RobertaModel were not initialized from the model checkpoint at klue/roberta-base and are newly initialized: ['pooler.dense.bias', 'pooler.dense.weight']\n",
      "You should probably TRAIN this model on a down-stream task to be able to use it for predictions and inference.\n"
     ]
    },
    {
     "name": "stdout",
     "output_type": "stream",
     "text": [
      "         date   source                                              title  \\\n",
      "1  2025-07-18       더벨  [2025 더벨 M 포럼]“주주 충실 의무 도입, 합병·분할·신주 발행 정당성 입증해야”   \n",
      "3  2025-07-18  EBN산업경제                 [종목분석] HMM, 시황 악화 우려에도 주주환원 기대감 여전   \n",
      "4  2025-07-18   연합인포맥스                           [표] 은행간 단기금리 기준-코리보(18일)   \n",
      "9  2025-07-18     대한경제  [금융레이더]하나금융/우리금융/신한금융/KB국민은행/신한은행/ AXA손해보험/한화생...   \n",
      "10 2025-07-18     매일경제  [MK부동산 교육] ‘왕초보’ 경매·공매 입문부터 실전까지  ‘경매·공매 최고의 수...   \n",
      "11 2025-07-18       더벨            [티엠씨 IPO]코스피로 최종 행선지 확정...최대주주 구주매출 30%   \n",
      "13 2025-07-18       더벨          [플랜엠 IPO]2년전 1200억 기업가치, 프리IPO서 2000억 노린다   \n",
      "14 2025-07-18       더벨    [Company Watch]'금융권 CEO 합류' 동원개발, 20년 만에 자사주 취득   \n",
      "15 2025-07-18     이데일리      국고 3·10년 금리차, 한달 만에 최대...2.9% 돌파한 10년물[채권브리핑]   \n",
      "16 2025-07-18      블로터    [월간 ECM] 유상증자 상반기만 7조 '큰 장'...규제 변수에 '촉각' [넘버스]   \n",
      "\n",
      "    group  label category  roberta_proba       sub_text  \\\n",
      "1     NaN      0      NaN       0.547165   2025 더벨 M 포럼   \n",
      "3     NaN      0      NaN       0.560914           종목분석   \n",
      "4     NaN      0      NaN       0.578841              표   \n",
      "9     NaN      0      NaN       0.755485          금융레이더   \n",
      "10    NaN      0      NaN       0.763582       MK부동산 교육   \n",
      "11    NaN      0      NaN       0.767507        티엠씨 IPO   \n",
      "13    NaN      0      NaN       0.807544        플랜엠 IPO   \n",
      "14    NaN      0      NaN       0.814545  Company Watch   \n",
      "15    NaN      0      NaN       0.818300          채권브리핑   \n",
      "16    NaN      0      NaN       0.818631     월간 ECM,넘버스   \n",
      "\n",
      "                                            body_text     score  \n",
      "1                 “주주 충실 의무 도입, 합병·분할·신주 발행 정당성 입증해야”  0.509203  \n",
      "3                         HMM, 시황 악화 우려에도 주주환원 기대감 여전  0.547293  \n",
      "4                                은행간 단기금리 기준-코리보(18일)  0.365469  \n",
      "9   하나금융/우리금융/신한금융/KB국민은행/신한은행/ AXA손해보험/한화생명/하나카드/...  0.478477  \n",
      "10   ‘왕초보’ 경매·공매 입문부터 실전까지  ‘경매·공매 최고의 수업’ 왕초보 ‘2기...  0.488288  \n",
      "11                     코스피로 최종 행선지 확정...최대주주 구주매출 30%  0.559291  \n",
      "13                   2년전 1200억 기업가치, 프리IPO서 2000억 노린다  0.492067  \n",
      "14                   '금융권 CEO 합류' 동원개발, 20년 만에 자사주 취득  0.506471  \n",
      "15             국고 3·10년 금리차, 한달 만에 최대...2.9% 돌파한 10년물  0.455507  \n",
      "16                  유상증자 상반기만 7조 '큰 장'...규제 변수에 '촉각'   0.552806  \n"
     ]
    },
    {
     "data": {
      "text/html": [
       "<div>\n",
       "<style scoped>\n",
       "    .dataframe tbody tr th:only-of-type {\n",
       "        vertical-align: middle;\n",
       "    }\n",
       "\n",
       "    .dataframe tbody tr th {\n",
       "        vertical-align: top;\n",
       "    }\n",
       "\n",
       "    .dataframe thead th {\n",
       "        text-align: right;\n",
       "    }\n",
       "</style>\n",
       "<table border=\"1\" class=\"dataframe\">\n",
       "  <thead>\n",
       "    <tr style=\"text-align: right;\">\n",
       "      <th></th>\n",
       "      <th>date</th>\n",
       "      <th>source</th>\n",
       "      <th>title</th>\n",
       "      <th>group</th>\n",
       "      <th>label</th>\n",
       "      <th>category</th>\n",
       "      <th>roberta_proba</th>\n",
       "      <th>clean_title</th>\n",
       "    </tr>\n",
       "  </thead>\n",
       "  <tbody>\n",
       "    <tr>\n",
       "      <th>0</th>\n",
       "      <td>2025-07-18</td>\n",
       "      <td>머니투데이</td>\n",
       "      <td>대우건설, 개포우성7차 '초저금리·무이자 분담금' 제안...\"조합 부담 최소화\"</td>\n",
       "      <td>0.0</td>\n",
       "      <td>0</td>\n",
       "      <td>NaN</td>\n",
       "      <td>0.982516</td>\n",
       "      <td>대우건설, 개포우성7차 '초저금리·무이자 분담금' 제안...\"조합 부담 최소화\"</td>\n",
       "    </tr>\n",
       "    <tr>\n",
       "      <th>1</th>\n",
       "      <td>2025-07-18</td>\n",
       "      <td>아주경제</td>\n",
       "      <td>대우건설, '개포우성7차' 조합에 분담금 최소화 제안</td>\n",
       "      <td>0.0</td>\n",
       "      <td>0</td>\n",
       "      <td>NaN</td>\n",
       "      <td>0.976989</td>\n",
       "      <td>대우건설, '개포우성7차' 조합에 분담금 최소화 제안</td>\n",
       "    </tr>\n",
       "    <tr>\n",
       "      <th>2</th>\n",
       "      <td>2025-07-18</td>\n",
       "      <td>이데일리</td>\n",
       "      <td>대우건설, 개포우성7차에 '분담금은 입주시', 이자는 '0'</td>\n",
       "      <td>0.0</td>\n",
       "      <td>0</td>\n",
       "      <td>NaN</td>\n",
       "      <td>0.919403</td>\n",
       "      <td>대우건설, 개포우성7차에 '분담금은 입주시', 이자는 '0'</td>\n",
       "    </tr>\n",
       "    <tr>\n",
       "      <th>3</th>\n",
       "      <td>2025-07-18</td>\n",
       "      <td>1코노미뉴스</td>\n",
       "      <td>대우건설, 개포우성7차에 '무이자 분담금·저금리' 제안</td>\n",
       "      <td>0.0</td>\n",
       "      <td>0</td>\n",
       "      <td>NaN</td>\n",
       "      <td>0.907838</td>\n",
       "      <td>대우건설, 개포우성7차에 '무이자 분담금·저금리' 제안</td>\n",
       "    </tr>\n",
       "    <tr>\n",
       "      <th>4</th>\n",
       "      <td>2025-07-18</td>\n",
       "      <td>파이낸셜뉴스</td>\n",
       "      <td>대우건설, 개포우성7차 분담금 최소화 조건 제시...‘이자 제로’</td>\n",
       "      <td>0.0</td>\n",
       "      <td>0</td>\n",
       "      <td>NaN</td>\n",
       "      <td>0.858175</td>\n",
       "      <td>대우건설, 개포우성7차 분담금 최소화 조건 제시...‘이자 제로’</td>\n",
       "    </tr>\n",
       "    <tr>\n",
       "      <th>...</th>\n",
       "      <td>...</td>\n",
       "      <td>...</td>\n",
       "      <td>...</td>\n",
       "      <td>...</td>\n",
       "      <td>...</td>\n",
       "      <td>...</td>\n",
       "      <td>...</td>\n",
       "      <td>...</td>\n",
       "    </tr>\n",
       "    <tr>\n",
       "      <th>927</th>\n",
       "      <td>2025-08-05</td>\n",
       "      <td>블로터</td>\n",
       "      <td>[CG인바이츠 is] 조중명 회장 퇴진 후 2년…신용규 체제 ‘명과 암'</td>\n",
       "      <td>NaN</td>\n",
       "      <td>0</td>\n",
       "      <td>NaN</td>\n",
       "      <td>0.687810</td>\n",
       "      <td>조중명 회장 퇴진 후 2년…신용규 체제 ‘명과 암'</td>\n",
       "    </tr>\n",
       "    <tr>\n",
       "      <th>928</th>\n",
       "      <td>2025-08-05</td>\n",
       "      <td>조선일보 땅집고</td>\n",
       "      <td>18년 걸리던 걸 13년 안에 새집…서울시, 주택공급 속도전 [기고]</td>\n",
       "      <td>NaN</td>\n",
       "      <td>0</td>\n",
       "      <td>NaN</td>\n",
       "      <td>0.626892</td>\n",
       "      <td>18년 걸리던 걸 13년 안에 새집…서울시, 주택공급 속도전</td>\n",
       "    </tr>\n",
       "    <tr>\n",
       "      <th>929</th>\n",
       "      <td>2025-08-05</td>\n",
       "      <td>머니투데이</td>\n",
       "      <td>[스팟]코스피 39.40포인트(1.25%) 오른 3187.15 출발</td>\n",
       "      <td>NaN</td>\n",
       "      <td>0</td>\n",
       "      <td>NaN</td>\n",
       "      <td>0.621781</td>\n",
       "      <td>코스피 39.40포인트(1.25%) 오른 3187.15 출발</td>\n",
       "    </tr>\n",
       "    <tr>\n",
       "      <th>930</th>\n",
       "      <td>2025-08-05</td>\n",
       "      <td>조선비즈</td>\n",
       "      <td>[비즈톡톡] 김동선 한화 부사장의 5성급 서울 리조트 인수 추진을 둘러싼 이견</td>\n",
       "      <td>NaN</td>\n",
       "      <td>0</td>\n",
       "      <td>NaN</td>\n",
       "      <td>0.607873</td>\n",
       "      <td>김동선 한화 부사장의 5성급 서울 리조트 인수 추진을 둘러싼 이견</td>\n",
       "    </tr>\n",
       "    <tr>\n",
       "      <th>931</th>\n",
       "      <td>2025-08-05</td>\n",
       "      <td>연합뉴스</td>\n",
       "      <td>[게시판] 해양진흥공사, 해운금융 교육생 모집</td>\n",
       "      <td>NaN</td>\n",
       "      <td>0</td>\n",
       "      <td>NaN</td>\n",
       "      <td>0.584112</td>\n",
       "      <td>해양진흥공사, 해운금융 교육생 모집</td>\n",
       "    </tr>\n",
       "  </tbody>\n",
       "</table>\n",
       "<p>932 rows × 8 columns</p>\n",
       "</div>"
      ],
      "text/plain": [
       "          date    source                                         title  group  \\\n",
       "0   2025-07-18     머니투데이  대우건설, 개포우성7차 '초저금리·무이자 분담금' 제안...\"조합 부담 최소화\"    0.0   \n",
       "1   2025-07-18      아주경제                 대우건설, '개포우성7차' 조합에 분담금 최소화 제안    0.0   \n",
       "2   2025-07-18      이데일리             대우건설, 개포우성7차에 '분담금은 입주시', 이자는 '0'    0.0   \n",
       "3   2025-07-18    1코노미뉴스                대우건설, 개포우성7차에 '무이자 분담금·저금리' 제안    0.0   \n",
       "4   2025-07-18    파이낸셜뉴스          대우건설, 개포우성7차 분담금 최소화 조건 제시...‘이자 제로’    0.0   \n",
       "..         ...       ...                                           ...    ...   \n",
       "927 2025-08-05       블로터      [CG인바이츠 is] 조중명 회장 퇴진 후 2년…신용규 체제 ‘명과 암'    NaN   \n",
       "928 2025-08-05  조선일보 땅집고        18년 걸리던 걸 13년 안에 새집…서울시, 주택공급 속도전 [기고]    NaN   \n",
       "929 2025-08-05     머니투데이         [스팟]코스피 39.40포인트(1.25%) 오른 3187.15 출발    NaN   \n",
       "930 2025-08-05      조선비즈   [비즈톡톡] 김동선 한화 부사장의 5성급 서울 리조트 인수 추진을 둘러싼 이견    NaN   \n",
       "931 2025-08-05      연합뉴스                     [게시판] 해양진흥공사, 해운금융 교육생 모집    NaN   \n",
       "\n",
       "     label category  roberta_proba  \\\n",
       "0        0      NaN       0.982516   \n",
       "1        0      NaN       0.976989   \n",
       "2        0      NaN       0.919403   \n",
       "3        0      NaN       0.907838   \n",
       "4        0      NaN       0.858175   \n",
       "..     ...      ...            ...   \n",
       "927      0      NaN       0.687810   \n",
       "928      0      NaN       0.626892   \n",
       "929      0      NaN       0.621781   \n",
       "930      0      NaN       0.607873   \n",
       "931      0      NaN       0.584112   \n",
       "\n",
       "                                      clean_title  \n",
       "0    대우건설, 개포우성7차 '초저금리·무이자 분담금' 제안...\"조합 부담 최소화\"  \n",
       "1                   대우건설, '개포우성7차' 조합에 분담금 최소화 제안  \n",
       "2               대우건설, 개포우성7차에 '분담금은 입주시', 이자는 '0'  \n",
       "3                  대우건설, 개포우성7차에 '무이자 분담금·저금리' 제안  \n",
       "4            대우건설, 개포우성7차 분담금 최소화 조건 제시...‘이자 제로’  \n",
       "..                                            ...  \n",
       "927                  조중명 회장 퇴진 후 2년…신용규 체제 ‘명과 암'  \n",
       "928             18년 걸리던 걸 13년 안에 새집…서울시, 주택공급 속도전  \n",
       "929             코스피 39.40포인트(1.25%) 오른 3187.15 출발  \n",
       "930          김동선 한화 부사장의 5성급 서울 리조트 인수 추진을 둘러싼 이견  \n",
       "931                           해양진흥공사, 해운금융 교육생 모집  \n",
       "\n",
       "[932 rows x 8 columns]"
      ]
     },
     "execution_count": 7,
     "metadata": {},
     "output_type": "execute_result"
    }
   ],
   "source": [
    "news_prep.remove_bracket_text_by_similarity(rss_df,'title')"
   ]
  },
  {
   "cell_type": "markdown",
   "id": "a272f232-59a0-4c6d-9024-57f5f8c45401",
   "metadata": {},
   "source": [
    "## 전체 전처리"
   ]
  },
  {
   "cell_type": "code",
   "execution_count": null,
   "id": "f3ac958f-d2c3-4a7a-9a0d-a7c64b39e1f7",
   "metadata": {},
   "outputs": [
    {
     "name": "stderr",
     "output_type": "stream",
     "text": [
      "Some weights of RobertaModel were not initialized from the model checkpoint at klue/roberta-base and are newly initialized: ['pooler.dense.bias', 'pooler.dense.weight']\n",
      "You should probably TRAIN this model on a down-stream task to be able to use it for predictions and inference.\n",
      "Some weights of RobertaModel were not initialized from the model checkpoint at klue/roberta-base and are newly initialized: ['pooler.dense.bias', 'pooler.dense.weight']\n",
      "You should probably TRAIN this model on a down-stream task to be able to use it for predictions and inference.\n"
     ]
    }
   ],
   "source": [
    "news_prep.clean_title(rss_df,'title')"
   ]
  },
  {
   "cell_type": "markdown",
   "id": "0e5324cc-80e4-4c44-8f2a-9d229b9e0823",
   "metadata": {},
   "source": [
    "# BM25"
   ]
  },
  {
   "cell_type": "code",
   "execution_count": 1,
   "id": "81ef613d-8963-4fb8-81f8-4bcf8f1e70d2",
   "metadata": {},
   "outputs": [],
   "source": [
    "from Koramco.transformers import TransFormers\n",
    "import torch\n",
    "import pandas as pd\n",
    "from Koramco.bm25 import BM25\n",
    "rss_train_dir = '/workspace/BJ/train_rss/RSS데이터검토(취합)_250806.xlsx'\n",
    "rss_df = pd.read_excel(rss_train_dir, sheet_name='취합본')"
   ]
  },
  {
   "cell_type": "code",
   "execution_count": 2,
   "id": "d2d94f6c-81ff-44b1-9526-577532216aab",
   "metadata": {},
   "outputs": [],
   "source": [
    "model_id = \"klue/roberta-base\"\n",
    "device = torch.device(\"cuda\" if torch.cuda.is_available() else \"cpu\")\n",
    "cache_dir = './cache_model2'"
   ]
  },
  {
   "cell_type": "code",
   "execution_count": 3,
   "id": "8cbb4cde-ee20-4fc1-a4db-1c9e904a28ca",
   "metadata": {},
   "outputs": [
    {
     "name": "stderr",
     "output_type": "stream",
     "text": [
      "Some weights of RobertaForSequenceClassification were not initialized from the model checkpoint at klue/roberta-base and are newly initialized: ['classifier.dense.bias', 'classifier.dense.weight', 'classifier.out_proj.bias', 'classifier.out_proj.weight']\n",
      "You should probably TRAIN this model on a down-stream task to be able to use it for predictions and inference.\n",
      "The new embeddings will be initialized from a multivariate normal distribution that has old embeddings' mean and covariance. As described in this article: https://nlp.stanford.edu/~johnhew/vocab-expansion.html. To disable this, use `mean_resizing=False`\n"
     ]
    }
   ],
   "source": [
    "t, m = TransFormers(model_id, device, cache_dir=cache_dir).from_pretrained()\n"
   ]
  },
  {
   "cell_type": "code",
   "execution_count": 4,
   "id": "a339e57f-9fbd-437f-b1ba-b7536baa46f2",
   "metadata": {},
   "outputs": [],
   "source": [
    "bm = BM25(rss_df['title'].to_list(),t)"
   ]
  },
  {
   "cell_type": "code",
   "execution_count": 5,
   "id": "16f3e1a8-0f39-45cd-8e35-5b8ef2826c5e",
   "metadata": {},
   "outputs": [
    {
     "name": "stderr",
     "output_type": "stream",
     "text": [
      "/workspace/Module/Koramco/bm25.py:120: FutureWarning: The provided callable <built-in function max> is currently using SeriesGroupBy.max. In a future version of pandas, the provided callable will be used directly. To keep current behavior pass the string \"max\" instead.\n",
      "  df['score'] = df['BM25'] / df.groupby('corpus1_idx', as_index=False)['BM25'].transform(max)\n"
     ]
    },
    {
     "data": {
      "text/html": [
       "<div>\n",
       "<style scoped>\n",
       "    .dataframe tbody tr th:only-of-type {\n",
       "        vertical-align: middle;\n",
       "    }\n",
       "\n",
       "    .dataframe tbody tr th {\n",
       "        vertical-align: top;\n",
       "    }\n",
       "\n",
       "    .dataframe thead th {\n",
       "        text-align: right;\n",
       "    }\n",
       "</style>\n",
       "<table border=\"1\" class=\"dataframe\">\n",
       "  <thead>\n",
       "    <tr style=\"text-align: right;\">\n",
       "      <th></th>\n",
       "      <th>corpus1_idx</th>\n",
       "      <th>corpus2_idx</th>\n",
       "      <th>corpus1</th>\n",
       "      <th>corpus2</th>\n",
       "      <th>score</th>\n",
       "    </tr>\n",
       "  </thead>\n",
       "  <tbody>\n",
       "    <tr>\n",
       "      <th>0</th>\n",
       "      <td>0</td>\n",
       "      <td>0</td>\n",
       "      <td>대우건설, 개포우성7차 '초저금리·무이자 분담금' 제안...\"조합 부담 최소화\"</td>\n",
       "      <td>대우건설, 개포우성7차 '초저금리·무이자 분담금' 제안...\"조합 부담 최소화\"</td>\n",
       "      <td>1.000000</td>\n",
       "    </tr>\n",
       "    <tr>\n",
       "      <th>932</th>\n",
       "      <td>0</td>\n",
       "      <td>1</td>\n",
       "      <td>대우건설, 개포우성7차 '초저금리·무이자 분담금' 제안...\"조합 부담 최소화\"</td>\n",
       "      <td>대우건설, '개포우성7차' 조합에 분담금 최소화 제안</td>\n",
       "      <td>0.620661</td>\n",
       "    </tr>\n",
       "    <tr>\n",
       "      <th>1864</th>\n",
       "      <td>0</td>\n",
       "      <td>2</td>\n",
       "      <td>대우건설, 개포우성7차 '초저금리·무이자 분담금' 제안...\"조합 부담 최소화\"</td>\n",
       "      <td>대우건설, 개포우성7차에 '분담금은 입주시', 이자는 '0'</td>\n",
       "      <td>0.340682</td>\n",
       "    </tr>\n",
       "    <tr>\n",
       "      <th>2796</th>\n",
       "      <td>0</td>\n",
       "      <td>3</td>\n",
       "      <td>대우건설, 개포우성7차 '초저금리·무이자 분담금' 제안...\"조합 부담 최소화\"</td>\n",
       "      <td>대우건설, 개포우성7차에 '무이자 분담금·저금리' 제안</td>\n",
       "      <td>0.523762</td>\n",
       "    </tr>\n",
       "    <tr>\n",
       "      <th>3728</th>\n",
       "      <td>0</td>\n",
       "      <td>4</td>\n",
       "      <td>대우건설, 개포우성7차 '초저금리·무이자 분담금' 제안...\"조합 부담 최소화\"</td>\n",
       "      <td>대우건설, 개포우성7차 분담금 최소화 조건 제시...‘이자 제로’</td>\n",
       "      <td>0.457846</td>\n",
       "    </tr>\n",
       "    <tr>\n",
       "      <th>...</th>\n",
       "      <td>...</td>\n",
       "      <td>...</td>\n",
       "      <td>...</td>\n",
       "      <td>...</td>\n",
       "      <td>...</td>\n",
       "    </tr>\n",
       "    <tr>\n",
       "      <th>864895</th>\n",
       "      <td>931</td>\n",
       "      <td>927</td>\n",
       "      <td>대한전선, 싱가포르서 1100억 추가 수주…초고압 턴키 프로젝트</td>\n",
       "      <td>29억 아파트 맞나? 친구 초대하기 겁난다…벽면 크랙 이어 악취까지</td>\n",
       "      <td>0.039469</td>\n",
       "    </tr>\n",
       "    <tr>\n",
       "      <th>865827</th>\n",
       "      <td>931</td>\n",
       "      <td>928</td>\n",
       "      <td>대한전선, 싱가포르서 1100억 추가 수주…초고압 턴키 프로젝트</td>\n",
       "      <td>한국공항공사, 전국 14개 공항 건설공사 현장 점검</td>\n",
       "      <td>0.000000</td>\n",
       "    </tr>\n",
       "    <tr>\n",
       "      <th>866759</th>\n",
       "      <td>931</td>\n",
       "      <td>929</td>\n",
       "      <td>대한전선, 싱가포르서 1100억 추가 수주…초고압 턴키 프로젝트</td>\n",
       "      <td>누빈자산운용 \"연준, 연내 2회·내년 2회 금리 인하\"</td>\n",
       "      <td>0.000000</td>\n",
       "    </tr>\n",
       "    <tr>\n",
       "      <th>867691</th>\n",
       "      <td>931</td>\n",
       "      <td>930</td>\n",
       "      <td>대한전선, 싱가포르서 1100억 추가 수주…초고압 턴키 프로젝트</td>\n",
       "      <td>공주시, 드론특별자유구역 선정</td>\n",
       "      <td>0.000000</td>\n",
       "    </tr>\n",
       "    <tr>\n",
       "      <th>868623</th>\n",
       "      <td>931</td>\n",
       "      <td>931</td>\n",
       "      <td>대한전선, 싱가포르서 1100억 추가 수주…초고압 턴키 프로젝트</td>\n",
       "      <td>대한전선, 싱가포르서 1100억 추가 수주…초고압 턴키 프로젝트</td>\n",
       "      <td>1.000000</td>\n",
       "    </tr>\n",
       "  </tbody>\n",
       "</table>\n",
       "<p>868624 rows × 5 columns</p>\n",
       "</div>"
      ],
      "text/plain": [
       "        corpus1_idx  corpus2_idx  \\\n",
       "0                 0            0   \n",
       "932               0            1   \n",
       "1864              0            2   \n",
       "2796              0            3   \n",
       "3728              0            4   \n",
       "...             ...          ...   \n",
       "864895          931          927   \n",
       "865827          931          928   \n",
       "866759          931          929   \n",
       "867691          931          930   \n",
       "868623          931          931   \n",
       "\n",
       "                                             corpus1  \\\n",
       "0       대우건설, 개포우성7차 '초저금리·무이자 분담금' 제안...\"조합 부담 최소화\"   \n",
       "932     대우건설, 개포우성7차 '초저금리·무이자 분담금' 제안...\"조합 부담 최소화\"   \n",
       "1864    대우건설, 개포우성7차 '초저금리·무이자 분담금' 제안...\"조합 부담 최소화\"   \n",
       "2796    대우건설, 개포우성7차 '초저금리·무이자 분담금' 제안...\"조합 부담 최소화\"   \n",
       "3728    대우건설, 개포우성7차 '초저금리·무이자 분담금' 제안...\"조합 부담 최소화\"   \n",
       "...                                              ...   \n",
       "864895           대한전선, 싱가포르서 1100억 추가 수주…초고압 턴키 프로젝트   \n",
       "865827           대한전선, 싱가포르서 1100억 추가 수주…초고압 턴키 프로젝트   \n",
       "866759           대한전선, 싱가포르서 1100억 추가 수주…초고압 턴키 프로젝트   \n",
       "867691           대한전선, 싱가포르서 1100억 추가 수주…초고압 턴키 프로젝트   \n",
       "868623           대한전선, 싱가포르서 1100억 추가 수주…초고압 턴키 프로젝트   \n",
       "\n",
       "                                             corpus2     score  \n",
       "0       대우건설, 개포우성7차 '초저금리·무이자 분담금' 제안...\"조합 부담 최소화\"  1.000000  \n",
       "932                    대우건설, '개포우성7차' 조합에 분담금 최소화 제안  0.620661  \n",
       "1864               대우건설, 개포우성7차에 '분담금은 입주시', 이자는 '0'  0.340682  \n",
       "2796                  대우건설, 개포우성7차에 '무이자 분담금·저금리' 제안  0.523762  \n",
       "3728            대우건설, 개포우성7차 분담금 최소화 조건 제시...‘이자 제로’  0.457846  \n",
       "...                                              ...       ...  \n",
       "864895         29억 아파트 맞나? 친구 초대하기 겁난다…벽면 크랙 이어 악취까지  0.039469  \n",
       "865827                  한국공항공사, 전국 14개 공항 건설공사 현장 점검  0.000000  \n",
       "866759                누빈자산운용 \"연준, 연내 2회·내년 2회 금리 인하\"  0.000000  \n",
       "867691                              공주시, 드론특별자유구역 선정  0.000000  \n",
       "868623           대한전선, 싱가포르서 1100억 추가 수주…초고압 턴키 프로젝트  1.000000  \n",
       "\n",
       "[868624 rows x 5 columns]"
      ]
     },
     "execution_count": 5,
     "metadata": {},
     "output_type": "execute_result"
    }
   ],
   "source": [
    "bm.get_score_mat(rss_df['title'].to_list())"
   ]
  },
  {
   "cell_type": "markdown",
   "id": "e1ff1921-fc6a-4788-b1b7-129963df5142",
   "metadata": {},
   "source": [
    "# Hybrid Score"
   ]
  },
  {
   "cell_type": "code",
   "execution_count": 1,
   "id": "2d33640f-e839-43a7-8cef-6c27f2458061",
   "metadata": {},
   "outputs": [],
   "source": [
    "from Koramco.hybridscore import HybridScore\n",
    "import pandas as pd\n",
    "import torch\n",
    "rss_train_dir = '/workspace/BJ/train_rss/RSS데이터검토(취합)_250806.xlsx'\n",
    "rss_df = pd.read_excel(rss_train_dir, sheet_name='취합본')"
   ]
  },
  {
   "cell_type": "code",
   "execution_count": 2,
   "id": "ab619dcc-3f24-43f1-9861-07eb3064124f",
   "metadata": {},
   "outputs": [],
   "source": [
    "model_id = \"klue/roberta-base\"\n",
    "device = torch.device(\"cuda\" if torch.cuda.is_available() else \"cpu\")\n",
    "cache_dir = './cache_model2'"
   ]
  },
  {
   "cell_type": "code",
   "execution_count": 3,
   "id": "2a216cb6-dcc6-42c1-95c7-7cde0d6cfb73",
   "metadata": {},
   "outputs": [
    {
     "name": "stderr",
     "output_type": "stream",
     "text": [
      "Some weights of RobertaModel were not initialized from the model checkpoint at klue/roberta-base and are newly initialized: ['pooler.dense.bias', 'pooler.dense.weight']\n",
      "You should probably TRAIN this model on a down-stream task to be able to use it for predictions and inference.\n",
      "The new embeddings will be initialized from a multivariate normal distribution that has old embeddings' mean and covariance. As described in this article: https://nlp.stanford.edu/~johnhew/vocab-expansion.html. To disable this, use `mean_resizing=False`\n"
     ]
    }
   ],
   "source": [
    "hs = HybridScore(rss_df['title'].to_list(), model_id, device, cache_dir = cache_dir)"
   ]
  },
  {
   "cell_type": "code",
   "execution_count": 4,
   "id": "cbe5352b-4f8b-44f3-9c41-91d1a36435f3",
   "metadata": {},
   "outputs": [
    {
     "name": "stderr",
     "output_type": "stream",
     "text": [
      "/workspace/Module/Koramco/bm25.py:120: FutureWarning: The provided callable <built-in function max> is currently using SeriesGroupBy.max. In a future version of pandas, the provided callable will be used directly. To keep current behavior pass the string \"max\" instead.\n",
      "  df['score'] = df['BM25'] / df.groupby('corpus1_idx', as_index=False)['BM25'].transform(max)\n"
     ]
    }
   ],
   "source": [
    "bm25_df = hs.get_bm25_mat(rss_df['title'].to_list())"
   ]
  },
  {
   "cell_type": "code",
   "execution_count": 5,
   "id": "500e2a8e-7baa-4652-ae60-6a839f855fb3",
   "metadata": {},
   "outputs": [
    {
     "name": "stderr",
     "output_type": "stream",
     "text": [
      "Some weights of RobertaModel were not initialized from the model checkpoint at klue/roberta-base and are newly initialized: ['pooler.dense.bias', 'pooler.dense.weight']\n",
      "You should probably TRAIN this model on a down-stream task to be able to use it for predictions and inference.\n"
     ]
    }
   ],
   "source": [
    "sim_df = hs.get_similarity_mat(rss_df['title'].to_list())"
   ]
  },
  {
   "cell_type": "code",
   "execution_count": 6,
   "id": "df77da2b-d2c9-4c26-8b93-658c75741066",
   "metadata": {},
   "outputs": [],
   "source": [
    "merge_df = hs.get_cluster_tg_data(sim_df, bm25_df)"
   ]
  },
  {
   "cell_type": "code",
   "execution_count": 7,
   "id": "664852c9-ea98-4982-859d-3224792f667b",
   "metadata": {},
   "outputs": [
    {
     "data": {
      "text/html": [
       "<div>\n",
       "<style scoped>\n",
       "    .dataframe tbody tr th:only-of-type {\n",
       "        vertical-align: middle;\n",
       "    }\n",
       "\n",
       "    .dataframe tbody tr th {\n",
       "        vertical-align: top;\n",
       "    }\n",
       "\n",
       "    .dataframe thead th {\n",
       "        text-align: right;\n",
       "    }\n",
       "</style>\n",
       "<table border=\"1\" class=\"dataframe\">\n",
       "  <thead>\n",
       "    <tr style=\"text-align: right;\">\n",
       "      <th></th>\n",
       "      <th>corpus1_idx</th>\n",
       "      <th>corpus2_idx</th>\n",
       "      <th>corpus1</th>\n",
       "      <th>corpus2</th>\n",
       "      <th>fin_score</th>\n",
       "    </tr>\n",
       "  </thead>\n",
       "  <tbody>\n",
       "    <tr>\n",
       "      <th>0</th>\n",
       "      <td>0</td>\n",
       "      <td>4</td>\n",
       "      <td>대우건설, 개포우성7차 '초저금리·무이자 분담금' 제안...\"조합 부담 최소화\"</td>\n",
       "      <td>대우건설, 개포우성7차 분담금 최소화 조건 제시...‘이자 제로’</td>\n",
       "      <td>0.940467</td>\n",
       "    </tr>\n",
       "    <tr>\n",
       "      <th>1</th>\n",
       "      <td>0</td>\n",
       "      <td>6</td>\n",
       "      <td>대우건설, 개포우성7차 '초저금리·무이자 분담금' 제안...\"조합 부담 최소화\"</td>\n",
       "      <td>대우건설 \"개포우성7차 분담금 입주 시 납부...이자는 0원\"</td>\n",
       "      <td>0.904463</td>\n",
       "    </tr>\n",
       "    <tr>\n",
       "      <th>2</th>\n",
       "      <td>1</td>\n",
       "      <td>3</td>\n",
       "      <td>대우건설, '개포우성7차' 조합에 분담금 최소화 제안</td>\n",
       "      <td>대우건설, 개포우성7차에 '무이자 분담금·저금리' 제안</td>\n",
       "      <td>0.910583</td>\n",
       "    </tr>\n",
       "    <tr>\n",
       "      <th>3</th>\n",
       "      <td>1</td>\n",
       "      <td>5</td>\n",
       "      <td>대우건설, '개포우성7차' 조합에 분담금 최소화 제안</td>\n",
       "      <td>대우건설, 개포우성7차에 조합원 분담금 최소화 조건 제시</td>\n",
       "      <td>0.963618</td>\n",
       "    </tr>\n",
       "    <tr>\n",
       "      <th>4</th>\n",
       "      <td>1</td>\n",
       "      <td>7</td>\n",
       "      <td>대우건설, '개포우성7차' 조합에 분담금 최소화 제안</td>\n",
       "      <td>대우건설, 개포우성7차 재건축서 '조합원 분담금 최소화' 제안</td>\n",
       "      <td>0.964139</td>\n",
       "    </tr>\n",
       "    <tr>\n",
       "      <th>...</th>\n",
       "      <td>...</td>\n",
       "      <td>...</td>\n",
       "      <td>...</td>\n",
       "      <td>...</td>\n",
       "      <td>...</td>\n",
       "    </tr>\n",
       "    <tr>\n",
       "      <th>419</th>\n",
       "      <td>808</td>\n",
       "      <td>809</td>\n",
       "      <td>대우건설, 업계 최초  프리미엄 골프연습장 조성</td>\n",
       "      <td>대우건설, 업계 첫 단지 '프리미엄 골프연습장' 조성…개포우성7차 적용</td>\n",
       "      <td>0.865051</td>\n",
       "    </tr>\n",
       "    <tr>\n",
       "      <th>420</th>\n",
       "      <td>820</td>\n",
       "      <td>817</td>\n",
       "      <td>현대건설, 디에이치 아델스타 이달 분양</td>\n",
       "      <td>현대건설, 서초 생활권 '디에이치 아델스타' 8월 분양</td>\n",
       "      <td>0.839939</td>\n",
       "    </tr>\n",
       "    <tr>\n",
       "      <th>421</th>\n",
       "      <td>820</td>\n",
       "      <td>818</td>\n",
       "      <td>현대건설, 디에이치 아델스타 이달 분양</td>\n",
       "      <td>주소는 과천, 생활은 서초…현대건설 '디에이치 아델스타' 8월 분양</td>\n",
       "      <td>0.839939</td>\n",
       "    </tr>\n",
       "    <tr>\n",
       "      <th>422</th>\n",
       "      <td>820</td>\n",
       "      <td>819</td>\n",
       "      <td>현대건설, 디에이치 아델스타 이달 분양</td>\n",
       "      <td>현대건설, 서초 생활권 '디에이치 아델스타' 이달 분양</td>\n",
       "      <td>1.000000</td>\n",
       "    </tr>\n",
       "    <tr>\n",
       "      <th>423</th>\n",
       "      <td>830</td>\n",
       "      <td>797</td>\n",
       "      <td>압구정5구역 최고 250m, 1401가구로</td>\n",
       "      <td>압구정 5구역 정비계획 결정…최고 250m, 1401가구 단지로 재탄생</td>\n",
       "      <td>1.000000</td>\n",
       "    </tr>\n",
       "  </tbody>\n",
       "</table>\n",
       "<p>424 rows × 5 columns</p>\n",
       "</div>"
      ],
      "text/plain": [
       "     corpus1_idx corpus2_idx                                       corpus1  \\\n",
       "0              0           4  대우건설, 개포우성7차 '초저금리·무이자 분담금' 제안...\"조합 부담 최소화\"   \n",
       "1              0           6  대우건설, 개포우성7차 '초저금리·무이자 분담금' 제안...\"조합 부담 최소화\"   \n",
       "2              1           3                 대우건설, '개포우성7차' 조합에 분담금 최소화 제안   \n",
       "3              1           5                 대우건설, '개포우성7차' 조합에 분담금 최소화 제안   \n",
       "4              1           7                 대우건설, '개포우성7차' 조합에 분담금 최소화 제안   \n",
       "..           ...         ...                                           ...   \n",
       "419          808         809                    대우건설, 업계 최초  프리미엄 골프연습장 조성   \n",
       "420          820         817                         현대건설, 디에이치 아델스타 이달 분양   \n",
       "421          820         818                         현대건설, 디에이치 아델스타 이달 분양   \n",
       "422          820         819                         현대건설, 디에이치 아델스타 이달 분양   \n",
       "423          830         797                       압구정5구역 최고 250m, 1401가구로   \n",
       "\n",
       "                                     corpus2  fin_score  \n",
       "0       대우건설, 개포우성7차 분담금 최소화 조건 제시...‘이자 제로’   0.940467  \n",
       "1         대우건설 \"개포우성7차 분담금 입주 시 납부...이자는 0원\"   0.904463  \n",
       "2             대우건설, 개포우성7차에 '무이자 분담금·저금리' 제안   0.910583  \n",
       "3            대우건설, 개포우성7차에 조합원 분담금 최소화 조건 제시   0.963618  \n",
       "4         대우건설, 개포우성7차 재건축서 '조합원 분담금 최소화' 제안   0.964139  \n",
       "..                                       ...        ...  \n",
       "419  대우건설, 업계 첫 단지 '프리미엄 골프연습장' 조성…개포우성7차 적용   0.865051  \n",
       "420           현대건설, 서초 생활권 '디에이치 아델스타' 8월 분양   0.839939  \n",
       "421    주소는 과천, 생활은 서초…현대건설 '디에이치 아델스타' 8월 분양   0.839939  \n",
       "422           현대건설, 서초 생활권 '디에이치 아델스타' 이달 분양   1.000000  \n",
       "423  압구정 5구역 정비계획 결정…최고 250m, 1401가구 단지로 재탄생   1.000000  \n",
       "\n",
       "[424 rows x 5 columns]"
      ]
     },
     "execution_count": 7,
     "metadata": {},
     "output_type": "execute_result"
    }
   ],
   "source": []
  }
 ],
 "metadata": {
  "kernelspec": {
   "display_name": "Python 3 (ipykernel)",
   "language": "python",
   "name": "python3"
  },
  "language_info": {
   "codemirror_mode": {
    "name": "ipython",
    "version": 3
   },
   "file_extension": ".py",
   "mimetype": "text/x-python",
   "name": "python",
   "nbconvert_exporter": "python",
   "pygments_lexer": "ipython3",
   "version": "3.11.10"
  }
 },
 "nbformat": 4,
 "nbformat_minor": 5
}
